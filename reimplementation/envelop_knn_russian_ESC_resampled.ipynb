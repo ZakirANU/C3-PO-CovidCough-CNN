{
 "cells": [
  {
   "cell_type": "code",
   "execution_count": 1,
   "metadata": {},
   "outputs": [],
   "source": [
    "import json\n",
    "import torch\n",
    "import torch.nn as nn\n",
    "import librosa \n",
    "import numpy as np\n",
    "import pylab\n",
    "import os\n",
    "import librosa.display\n",
    "from tqdm.notebook import tqdm\n",
    "import warnings\n",
    "from torch.utils.data import Dataset, DataLoader\n",
    "from PIL import Image\n",
    "import torch.nn.functional as F\n",
    "import torch.optim as optim\n",
    "from audio2numpy import open_audio\n",
    "from scipy.signal import hilbert\n",
    "import signal_envelope as se\n",
    "warnings.filterwarnings(\"ignore\")\n",
    "import soundfile"
   ]
  },
  {
   "cell_type": "code",
   "execution_count": 4,
   "metadata": {},
   "outputs": [
    {
     "data": {
      "application/vnd.jupyter.widget-view+json": {
       "model_id": "4ba36811744143b68627856ac69959bb",
       "version_major": 2,
       "version_minor": 0
      },
      "text/plain": [
       "  0%|          | 0/1364 [00:00<?, ?it/s]"
      ]
     },
     "metadata": {},
     "output_type": "display_data"
    },
    {
     "name": "stdout",
     "output_type": "stream",
     "text": [
      "0\n",
      "0\n"
     ]
    }
   ],
   "source": [
    "#Read Dataset\n",
    "datasetPath = r\"dataset/combine-russian-ESC\"\n",
    "with open(os.path.join(datasetPath, 'metadata.json')) as f:\n",
    "  data = json.load(f)\n",
    "  \n",
    "#Smooth values\n",
    "def movmean(values, window):\n",
    "    weights = np.repeat(1.0, window)/window\n",
    "    sma = np.convolve(values, weights, 'valid')\n",
    "    return sma\n",
    "\n",
    "#Feature extraction\n",
    "areas  = []\n",
    "asymptomatic = []\n",
    "covid19      = []\n",
    "verified     = []\n",
    "\n",
    "for key in tqdm(data):\n",
    "  if 'filename' not in key:\n",
    "    continue\n",
    "  filename = key['filename']\n",
    "  try:\n",
    "    format = filename.split(\".\")[1]\n",
    "    filepath = os.path.join(datasetPath, \"raw\", filename)\n",
    "    if format == \"mp3\":\n",
    "      signal, sr = open_audio(filepath)\n",
    "    elif format == \"ogg\":\n",
    "      signal, sr = soundfile.read(filepath)\n",
    "    else:\n",
    "      print(0)\n",
    "      continue\n",
    "\n",
    "    if sr != 8000:\n",
    "      signal = librosa.resample(signal, sr, 8000)\n",
    "      \n",
    "  except:\n",
    "    print(0)\n",
    "    continue\n",
    "\n",
    "  if 'asymptomatic' in key:\n",
    "    asymptomatic.append(int(key['asymptomatic']))\n",
    "  else:\n",
    "    asymptomatic.append(2)\n",
    "\n",
    "  if 'covid19' in key:  \n",
    "    covid19.append(int(key['covid19']))\n",
    "  else:\n",
    "    covid19.append(2)\n",
    "\n",
    "  if 'verified' in key:   \n",
    "    verified.append(int(key['verified']))\n",
    "  else:\n",
    "    verified.append(2)\n",
    "\n",
    "  correct = None\n",
    "  if len(signal.shape) == 1:\n",
    "    correct = signal\n",
    "  else:\n",
    "    if np.sum(np.var(signal[:,1])) > np.sum(np.var(signal[:,0])):\n",
    "      correct = signal[:,1]\n",
    "    else:\n",
    "      correct = signal[:,0]\n",
    "\n",
    "  correct = movmean(correct,3)\n",
    "  area = np.sum(np.abs(hilbert(correct)))\n",
    "  areas.append(area)\n",
    "  \n",
    "areas, asymptomatic, covid19, verified = np.array(areas), np.array(asymptomatic), np.array(covid19), np.array(verified)   \n"
   ]
  },
  {
   "cell_type": "code",
   "execution_count": 5,
   "metadata": {},
   "outputs": [],
   "source": [
    "from sklearn.linear_model import LogisticRegression\n",
    "from sklearn.metrics import classification_report,accuracy_score,auc,roc_curve,cohen_kappa_score\n",
    "\n",
    "#Use LR to find threshold\n",
    "def train(X, Y):\n",
    "  X = np.array(X).reshape(-1,1)\n",
    "  Y = np.array(Y).reshape(-1)\n",
    "\n",
    "  neigh = LogisticRegression(max_iter = 1000)\n",
    "  neigh.fit(X, Y)\n",
    "\n",
    "  \n",
    "  print(classification_report(Y, neigh.predict(X)))\n",
    "  print(accuracy_score(Y, neigh.predict(X)))\n",
    "  fpr, tpr, thresholds = roc_curve(Y, neigh.predict(X))\n",
    "  print(auc(fpr,tpr))\n",
    "  print(cohen_kappa_score(Y,neigh.predict(X)))\n",
    "\n",
    "  return neigh"
   ]
  },
  {
   "cell_type": "code",
   "execution_count": 6,
   "metadata": {},
   "outputs": [
    {
     "name": "stdout",
     "output_type": "stream",
     "text": [
      "              precision    recall  f1-score   support\n",
      "\n",
      "           0       0.67      0.64      0.66       478\n",
      "           1       0.58      0.61      0.59       381\n",
      "\n",
      "    accuracy                           0.63       859\n",
      "   macro avg       0.63      0.63      0.63       859\n",
      "weighted avg       0.63      0.63      0.63       859\n",
      "\n",
      "0.6286379511059371\n",
      "0.6269039853281938\n",
      "0.25226282311913495\n"
     ]
    }
   ],
   "source": [
    "#Experiments\n",
    "mask = np.logical_and(covid19 !=2,verified !=2)\n",
    "mask = np.logical_and(mask, covid19 == verified )\n",
    "X, Y = areas[mask], verified[mask]\n",
    "neigh = train(X, Y)"
   ]
  },
  {
   "cell_type": "code",
   "execution_count": 7,
   "metadata": {},
   "outputs": [
    {
     "name": "stdout",
     "output_type": "stream",
     "text": [
      "              precision    recall  f1-score   support\n",
      "\n",
      "           0       0.81      0.31      0.44       478\n",
      "           1       0.51      0.91      0.65       381\n",
      "\n",
      "    accuracy                           0.57       859\n",
      "   macro avg       0.66      0.61      0.55       859\n",
      "weighted avg       0.68      0.57      0.54       859\n",
      "\n",
      "0.5727590221187427\n",
      "0.6067879067417827\n",
      "0.19792135760536333\n",
      "---\n",
      "              precision    recall  f1-score   support\n",
      "\n",
      "           0       0.84      0.12      0.22       478\n",
      "           1       0.47      0.97      0.63       381\n",
      "\n",
      "    accuracy                           0.50       859\n",
      "   macro avg       0.66      0.55      0.42       859\n",
      "weighted avg       0.68      0.50      0.40       859\n",
      "\n",
      "0.49941792782305006\n",
      "0.5472797856334904\n",
      "0.08529216566124831\n",
      "---\n",
      "              precision    recall  f1-score   support\n",
      "\n",
      "           0       0.92      0.07      0.13       478\n",
      "           1       0.46      0.99      0.63       381\n",
      "\n",
      "    accuracy                           0.48       859\n",
      "   macro avg       0.69      0.53      0.38       859\n",
      "weighted avg       0.71      0.48      0.35       859\n",
      "\n",
      "0.47846332945285214\n",
      "0.5305818205778672\n",
      "0.05472231092333768\n",
      "---\n"
     ]
    }
   ],
   "source": [
    "print(classification_report(Y, X <= 2000))\n",
    "print(accuracy_score(Y, X <= 2000))\n",
    "fpr, tpr, thresholds = roc_curve(Y, X <= 2000)\n",
    "print(auc(fpr,tpr))\n",
    "print(cohen_kappa_score(Y,X <= 2000))\n",
    "print(\"---\")\n",
    "\n",
    "print(classification_report(Y, X <= 3000))\n",
    "print(accuracy_score(Y, X <= 3000))\n",
    "fpr, tpr, thresholds = roc_curve(Y, X <= 3000)\n",
    "print(auc(fpr,tpr))\n",
    "print(cohen_kappa_score(Y,X <= 3000))\n",
    "print(\"---\")\n",
    "\n",
    "print(classification_report(Y, X <= 4000))\n",
    "print(accuracy_score(Y, X <= 4000))\n",
    "fpr, tpr, thresholds = roc_curve(Y, X <= 4000)\n",
    "print(auc(fpr,tpr))\n",
    "print(cohen_kappa_score(Y,X <= 4000))\n",
    "print(\"---\")"
   ]
  },
  {
   "cell_type": "code",
   "execution_count": 8,
   "metadata": {},
   "outputs": [],
   "source": [
    "from sklearn.model_selection import train_test_split\n",
    "X = np.array(X).reshape(-1,1)\n",
    "Y = np.array(Y).reshape(-1)\n",
    "X_train, X_test, Y_train, Y_test = train_test_split(X, Y, test_size=0.20)"
   ]
  },
  {
   "cell_type": "code",
   "execution_count": 9,
   "metadata": {},
   "outputs": [
    {
     "name": "stdout",
     "output_type": "stream",
     "text": [
      "              precision    recall  f1-score   support\n",
      "\n",
      "           0       0.59      0.89      0.71        93\n",
      "           1       0.68      0.27      0.38        79\n",
      "\n",
      "    accuracy                           0.60       172\n",
      "   macro avg       0.63      0.58      0.55       172\n",
      "weighted avg       0.63      0.60      0.56       172\n",
      "\n",
      "0.6046511627906976\n",
      "0.5791479515448483\n",
      "0.16588218513764075\n"
     ]
    }
   ],
   "source": [
    "from sklearn.preprocessing import StandardScaler\n",
    "from sklearn.neighbors import KNeighborsClassifier\n",
    "\n",
    "\n",
    "scaler = StandardScaler()\n",
    "scaler.fit(X_train)\n",
    "\n",
    "X_train = scaler.transform(X_train)\n",
    "X_test = scaler.transform(X_test)\n",
    "\n",
    "classifier = KNeighborsClassifier(n_neighbors = 2)\n",
    "classifier.fit(X_train, Y_train)\n",
    "\n",
    "Y_pred = classifier.predict(X_test)\n",
    "\n",
    "print(classification_report(Y_test, Y_pred))\n",
    "print(accuracy_score(Y_test, Y_pred))\n",
    "fpr, tpr, thresholds = roc_curve(Y_test, Y_pred)\n",
    "print(auc(fpr,tpr))\n",
    "print(cohen_kappa_score(Y_test, Y_pred))\n"
   ]
  },
  {
   "cell_type": "code",
   "execution_count": null,
   "metadata": {},
   "outputs": [],
   "source": []
  }
 ],
 "metadata": {
  "kernelspec": {
   "display_name": "Python 3.8.5 ('fcan')",
   "language": "python",
   "name": "python3"
  },
  "language_info": {
   "codemirror_mode": {
    "name": "ipython",
    "version": 3
   },
   "file_extension": ".py",
   "mimetype": "text/x-python",
   "name": "python",
   "nbconvert_exporter": "python",
   "pygments_lexer": "ipython3",
   "version": "3.8.5"
  },
  "orig_nbformat": 4,
  "vscode": {
   "interpreter": {
    "hash": "9105ab0be51cae984c4f49f7ebad102668309b485635e647e6eeec81f07f96f2"
   }
  }
 },
 "nbformat": 4,
 "nbformat_minor": 2
}
