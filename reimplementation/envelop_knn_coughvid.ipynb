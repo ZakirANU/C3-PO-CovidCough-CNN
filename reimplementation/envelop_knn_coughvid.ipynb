{
 "cells": [
  {
   "cell_type": "code",
   "execution_count": 25,
   "metadata": {},
   "outputs": [],
   "source": [
    "# general purpose libraries\n",
    "import numpy as np\n",
    "import datetime as dt\n",
    "import pandas as pd\n",
    "import os\n",
    "import warnings\n",
    "import pickle\n",
    "from timeit import default_timer as timer\n",
    "from collections import OrderedDict\n",
    "from itertools import chain\n",
    "\n",
    "from tqdm.notebook import tqdm\n",
    "from scipy.signal import hilbert\n",
    "\n",
    "pd.set_option(\"display.max_columns\", None)\n",
    "\n",
    "\n",
    "import warnings\n",
    "warnings.filterwarnings('ignore', '.*PySoundFile failed. Trying audioread instead*.', )\n"
   ]
  },
  {
   "cell_type": "code",
   "execution_count": 2,
   "metadata": {},
   "outputs": [],
   "source": [
    "# plots and visualisation\n",
    "import matplotlib.pyplot as plt\n",
    "import plotly.graph_objects as ply_go\n",
    "import plotly.figure_factory as ply_ff\n",
    "import plotly.colors as ply_colors #.sequential.Oranges as orange_palette\n",
    "#print(plotly.colors.named_colorscales() )\n",
    "#plotly.colors.sequential.swatches()\n",
    "#ply_colors.sequential.Oranges"
   ]
  },
  {
   "cell_type": "code",
   "execution_count": 3,
   "metadata": {},
   "outputs": [],
   "source": [
    "# DSP libraries\n",
    "from scipy import signal\n",
    "import librosa\n",
    "import librosa.display as librosa_display"
   ]
  },
  {
   "cell_type": "code",
   "execution_count": 4,
   "metadata": {},
   "outputs": [],
   "source": [
    "# ML and data modelling libraries\n",
    "from sklearn.preprocessing   import MinMaxScaler, OneHotEncoder,LabelEncoder\n",
    "from sklearn.model_selection import train_test_split\n",
    "from sklearn.pipeline import Pipeline\n",
    "from sklearn.metrics import accuracy_score, roc_auc_score,roc_curve, precision_recall_curve,confusion_matrix,precision_score, recall_score,average_precision_score, classification_report\n",
    "from sklearn.linear_model import LogisticRegression\n",
    "\n",
    "import xgboost as xgb"
   ]
  },
  {
   "cell_type": "code",
   "execution_count": 11,
   "metadata": {},
   "outputs": [],
   "source": [
    "### Setup paths and directories\n",
    "work_dir = r'dataset/' \n",
    "data_dir = work_dir + r\"COUGHVID/\"\n",
    "audio_outdir = \"out\"\n",
    "\n",
    "metadata_file = \"metadata_compiled.csv\""
   ]
  },
  {
   "cell_type": "code",
   "execution_count": 12,
   "metadata": {},
   "outputs": [
    {
     "name": "stdout",
     "output_type": "stream",
     "text": [
      "Metadata df entries before cleaning NAs: 27550\n",
      "Metadata df entries after cleaning NAs: 15218\n"
     ]
    }
   ],
   "source": [
    "metadata=pd.read_csv(data_dir+metadata_file,sep=\",\")\n",
    "#print(metadata.columns)\n",
    "\n",
    "# convert strings 'True'/'False' to genuine booleans\n",
    "cols_to_boolean = (['respiratory_condition', 'fever_muscle_pain',\n",
    "                     'dyspnea_1', 'wheezing_1', 'stridor_1','choking_1', 'congestion_1', 'nothing_1',\n",
    "                     'dyspnea_2', 'wheezing_2', 'stridor_2','choking_2', 'congestion_2', 'nothing_2',\n",
    "                     'dyspnea_3', 'wheezing_3', 'stridor_3','choking_3', 'congestion_3', 'nothing_3',\n",
    "                     'dyspnea_4', 'wheezing_4', 'stridor_4','choking_4', 'congestion_4', 'nothing_4'])\n",
    "for c in cols_to_boolean:\n",
    "    metadata.loc[metadata[c].notnull(),c] = metadata.loc[metadata[c].notnull(),c].astype(bool) \n",
    "\n",
    "# remove entries where either status or age is NA\n",
    "print(\"Metadata df entries before cleaning NAs: {}\".format(metadata.shape[0]))\n",
    "metadata = metadata.loc[~((metadata['status'].isnull() ) | (metadata['age'].isnull()) ),]\n",
    "print(\"Metadata df entries after cleaning NAs: {}\".format(metadata.shape[0]))\n",
    "\n"
   ]
  },
  {
   "cell_type": "code",
   "execution_count": 13,
   "metadata": {},
   "outputs": [
    {
     "name": "stdout",
     "output_type": "stream",
     "text": [
      "Entries subdivided in classes. Printing the number of entries for each class:\n",
      "             N_entries\n",
      "audio_class           \n",
      "0                 7905\n",
      "1                  608\n",
      "2                 1778\n",
      "X                 4927\n",
      "\n",
      "\n",
      "\n",
      "Splitting count by class and status:\n",
      "                         N_entries\n",
      "audio_class status                \n",
      "0           healthy           7905\n",
      "1           COVID-19           608\n",
      "2           symptomatic       1778\n",
      "X           COVID-19           357\n",
      "            healthy           3827\n",
      "            symptomatic        743\n"
     ]
    }
   ],
   "source": [
    "metadata['audio_class'] = 'X' # default, we should have none by the end of this classification process\n",
    "metadata.loc[ (metadata['cough_detected'] >= 0.80) & (metadata['status'] == \"COVID-19\") ,'audio_class'] = 1\n",
    "metadata.loc[ (metadata['cough_detected'] >= 0.80) & (metadata['status'] == \"healthy\") ,'audio_class'] = 0\n",
    "metadata.loc[ (metadata['cough_detected'] >= 0.80) & (metadata['status'] == \"symptomatic\") ,'audio_class'] = 2\n",
    "\n",
    "print(\"Entries subdivided in classes. Printing the number of entries for each class:\")\n",
    "print(metadata[['audio_class','uuid']].groupby(['audio_class']).count().rename(columns={'uuid':'N_entries'}) )\n",
    "\n",
    "print(\"\\n\\n\\nSplitting count by class and status:\")\n",
    "print(metadata[['audio_class','status','uuid']].groupby(['audio_class','status']).count().rename(columns={'uuid':'N_entries'}) )\n"
   ]
  },
  {
   "cell_type": "code",
   "execution_count": 14,
   "metadata": {},
   "outputs": [
    {
     "name": "stdout",
     "output_type": "stream",
     "text": [
      "             N_entries\n",
      "audio_class           \n",
      "0                 7905\n",
      "1                  608\n",
      "2                 1778\n"
     ]
    }
   ],
   "source": [
    "validdata = metadata.loc[(metadata['audio_class'] != 'X')]\n",
    "print(validdata[['audio_class','uuid']].groupby(['audio_class']).count().rename(columns={'uuid':'N_entries'}) )"
   ]
  },
  {
   "cell_type": "code",
   "execution_count": 15,
   "metadata": {},
   "outputs": [],
   "source": [
    "# Balance the number of each classes\n",
    "num = len(validdata.loc[validdata[\"audio_class\"] == 1])\n",
    "balanced_data = pd.concat([\n",
    "    validdata.loc[validdata[\"audio_class\"] == 1],\n",
    "    validdata.loc[validdata[\"audio_class\"] == 0].sample(n = num),\n",
    "    validdata.loc[validdata[\"audio_class\"] == 2].sample(n = num)\n",
    "])"
   ]
  },
  {
   "cell_type": "code",
   "execution_count": 16,
   "metadata": {},
   "outputs": [],
   "source": [
    "def movmean(values, window):\n",
    "    weights = np.repeat(1.0, window)/window\n",
    "    sma = np.convolve(values, weights, 'valid')\n",
    "    return sma\n",
    "\n",
    "def calarea(filename, indir, sr=None ):\n",
    "    signal, sr = librosa.load(indir+filename, sr=sr, mono=True)\n",
    "    signal = movmean(signal, 3)\n",
    "    area = np.sum(np.abs(hilbert(signal)))\n",
    "\n",
    "    return area\n",
    "\n",
    "    "
   ]
  },
  {
   "cell_type": "code",
   "execution_count": 28,
   "metadata": {},
   "outputs": [
    {
     "data": {
      "application/vnd.jupyter.widget-view+json": {
       "model_id": "5d62b49770404cc2b06b9113c51d7bf4",
       "version_major": 2,
       "version_minor": 0
      },
      "text/plain": [
       "  0%|          | 0/1824 [00:00<?, ?it/s]"
      ]
     },
     "metadata": {},
     "output_type": "display_data"
    }
   ],
   "source": [
    "for uuid in tqdm(balanced_data[\"uuid\"].values):\n",
    "    filename = uuid + \".webm\"\n",
    "    if not os.path.exists(data_dir + filename):\n",
    "        # try to look for a .ogg file\n",
    "        filename = uuid + \".ogg\"\n",
    "        if not os.path.exists(data_dir + filename):\n",
    "            print(f\"could not find audio file for uuid: {uuid}\")\n",
    "            continue\n",
    "\n",
    "    area = calarea(filename, data_dir)\n",
    "    balanced_data.loc[balanced_data[\"uuid\"] == uuid, \"area\"] = area"
   ]
  },
  {
   "cell_type": "code",
   "execution_count": 33,
   "metadata": {},
   "outputs": [],
   "source": [
    "balanced_data.to_csv(data_dir + \"balanced_data.csv\")"
   ]
  },
  {
   "cell_type": "code",
   "execution_count": 41,
   "metadata": {},
   "outputs": [],
   "source": [
    "X = balanced_data[\"area\"].values.reshape(-1, 1).astype(\"float32\")\n",
    "Y = balanced_data[\"audio_class\"].values.reshape(-1).astype(\"uint8\")"
   ]
  },
  {
   "cell_type": "code",
   "execution_count": 42,
   "metadata": {},
   "outputs": [],
   "source": [
    "from sklearn.model_selection import train_test_split\n",
    "X_train, X_test, Y_train, Y_test = train_test_split(X, Y, test_size=0.20)"
   ]
  },
  {
   "cell_type": "code",
   "execution_count": 46,
   "metadata": {},
   "outputs": [
    {
     "name": "stdout",
     "output_type": "stream",
     "text": [
      "              precision    recall  f1-score   support\n",
      "\n",
      "           0       0.35      0.45      0.39       126\n",
      "           1       0.30      0.28      0.29       120\n",
      "           2       0.30      0.23      0.26       119\n",
      "\n",
      "    accuracy                           0.32       365\n",
      "   macro avg       0.32      0.32      0.32       365\n",
      "weighted avg       0.32      0.32      0.32       365\n",
      "\n",
      "0.3232876712328767\n",
      "-0.018286346796783315\n"
     ]
    }
   ],
   "source": [
    "from sklearn.preprocessing import StandardScaler\n",
    "from sklearn.neighbors import KNeighborsClassifier\n",
    "from sklearn.metrics import classification_report,accuracy_score,auc,roc_curve,cohen_kappa_score\n",
    "\n",
    "\n",
    "scaler = StandardScaler()\n",
    "scaler.fit(X_train)\n",
    "\n",
    "X_train = scaler.transform(X_train)\n",
    "X_test = scaler.transform(X_test)\n",
    "\n",
    "classifier = KNeighborsClassifier(n_neighbors = 3)\n",
    "classifier.fit(X_train, Y_train)\n",
    "\n",
    "Y_pred = classifier.predict(X_test)\n",
    "\n",
    "print(classification_report(Y_test, Y_pred))\n",
    "print(accuracy_score(Y_test, Y_pred))\n",
    "print(cohen_kappa_score(Y_test, Y_pred))\n"
   ]
  },
  {
   "cell_type": "code",
   "execution_count": null,
   "metadata": {},
   "outputs": [],
   "source": []
  }
 ],
 "metadata": {
  "kernelspec": {
   "display_name": "Python 3.7.6 ('torch171')",
   "language": "python",
   "name": "python3"
  },
  "language_info": {
   "codemirror_mode": {
    "name": "ipython",
    "version": 3
   },
   "file_extension": ".py",
   "mimetype": "text/x-python",
   "name": "python",
   "nbconvert_exporter": "python",
   "pygments_lexer": "ipython3",
   "version": "3.7.6"
  },
  "orig_nbformat": 4,
  "vscode": {
   "interpreter": {
    "hash": "5fa1258f31565bd75bae15403fb9c8323f2718a24a89fae8f2d483e357ac959a"
   }
  }
 },
 "nbformat": 4,
 "nbformat_minor": 2
}
