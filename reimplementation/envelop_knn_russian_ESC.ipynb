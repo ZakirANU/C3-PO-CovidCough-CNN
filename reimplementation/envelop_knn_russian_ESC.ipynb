{
 "cells": [
  {
   "cell_type": "code",
   "execution_count": 6,
   "metadata": {},
   "outputs": [],
   "source": [
    "import json\n",
    "import torch\n",
    "import torch.nn as nn\n",
    "import librosa \n",
    "import numpy as np\n",
    "import pylab\n",
    "import os\n",
    "import librosa.display\n",
    "from tqdm.notebook import tqdm\n",
    "import warnings\n",
    "from torch.utils.data import Dataset, DataLoader\n",
    "from PIL import Image\n",
    "import torch.nn.functional as F\n",
    "import torch.optim as optim\n",
    "from audio2numpy import open_audio\n",
    "from scipy.signal import hilbert\n",
    "import signal_envelope as se\n",
    "warnings.filterwarnings(\"ignore\")\n",
    "import soundfile"
   ]
  },
  {
   "cell_type": "code",
   "execution_count": 20,
   "metadata": {},
   "outputs": [
    {
     "data": {
      "application/vnd.jupyter.widget-view+json": {
       "model_id": "66639b1c09754b0483ccb029ef2f2827",
       "version_major": 2,
       "version_minor": 0
      },
      "text/plain": [
       "  0%|          | 0/1364 [00:00<?, ?it/s]"
      ]
     },
     "metadata": {},
     "output_type": "display_data"
    },
    {
     "name": "stdout",
     "output_type": "stream",
     "text": [
      "0\n",
      "0\n"
     ]
    }
   ],
   "source": [
    "#Read Dataset\n",
    "datasetPath = r\"dataset/combine-russian-ESC\"\n",
    "with open(os.path.join(datasetPath, 'metadata.json')) as f:\n",
    "  data = json.load(f)\n",
    "  \n",
    "#Smooth values\n",
    "def movmean(values, window):\n",
    "    weights = np.repeat(1.0, window)/window\n",
    "    sma = np.convolve(values, weights, 'valid')\n",
    "    return sma\n",
    "\n",
    "#Feature extraction\n",
    "areas  = []\n",
    "asymptomatic = []\n",
    "covid19      = []\n",
    "verified     = []\n",
    "\n",
    "for key in tqdm(data):\n",
    "  if 'filename' not in key:\n",
    "    continue\n",
    "  filename = key['filename']\n",
    "  try:\n",
    "    format = filename.split(\".\")[1]\n",
    "    filepath = os.path.join(datasetPath, \"raw\", filename)\n",
    "    if format == \"mp3\":\n",
    "      signal, sr = open_audio(filepath)\n",
    "    elif format == \"ogg\":\n",
    "      signal, sr = soundfile.read(filepath)\n",
    "      \n",
    "  except:\n",
    "    print(0)\n",
    "    continue\n",
    "\n",
    "  if 'asymptomatic' in key:\n",
    "    asymptomatic.append(int(key['asymptomatic']))\n",
    "  else:\n",
    "    asymptomatic.append(2)\n",
    "\n",
    "  if 'covid19' in key:  \n",
    "    covid19.append(int(key['covid19']))\n",
    "  else:\n",
    "    covid19.append(2)\n",
    "\n",
    "  if 'verified' in key:   \n",
    "    verified.append(int(key['verified']))\n",
    "  else:\n",
    "    verified.append(2)\n",
    "\n",
    "  correct = None\n",
    "  if len(signal.shape) == 1:\n",
    "    correct = signal\n",
    "  else:\n",
    "    if np.sum(np.var(signal[:,1])) > np.sum(np.var(signal[:,0])):\n",
    "      correct = signal[:,1]\n",
    "    else:\n",
    "      correct = signal[:,0]\n",
    "\n",
    "  correct = movmean(correct,3)\n",
    "  area = np.sum(np.abs(hilbert(correct)))\n",
    "  areas.append(area)\n",
    "  \n",
    "areas, asymptomatic, covid19, verified = np.array(areas), np.array(asymptomatic), np.array(covid19), np.array(verified)   \n"
   ]
  },
  {
   "cell_type": "code",
   "execution_count": 24,
   "metadata": {},
   "outputs": [],
   "source": [
    "from sklearn.linear_model import LogisticRegression\n",
    "from sklearn.metrics import classification_report,accuracy_score,auc,roc_curve,cohen_kappa_score\n",
    "\n",
    "#Use LR to find threshold\n",
    "def train(X, Y):\n",
    "  X = np.array(X).reshape(-1,1)\n",
    "  Y = np.array(Y).reshape(-1)\n",
    "\n",
    "  neigh = LogisticRegression(max_iter = 1000)\n",
    "  neigh.fit(X, Y)\n",
    "\n",
    "  \n",
    "  print(classification_report(Y, neigh.predict(X)))\n",
    "  print(accuracy_score(Y, neigh.predict(X)))\n",
    "  fpr, tpr, thresholds = roc_curve(Y, neigh.predict(X))\n",
    "  print(auc(fpr,tpr))\n",
    "  print(cohen_kappa_score(Y,neigh.predict(X)))\n",
    "\n",
    "  return neigh"
   ]
  },
  {
   "cell_type": "code",
   "execution_count": 22,
   "metadata": {},
   "outputs": [
    {
     "name": "stdout",
     "output_type": "stream",
     "text": [
      "              precision    recall  f1-score   support\n",
      "\n",
      "           0       0.96      0.92      0.94       478\n",
      "           1       0.90      0.95      0.93       381\n",
      "\n",
      "    accuracy                           0.93       859\n",
      "   macro avg       0.93      0.94      0.93       859\n",
      "weighted avg       0.94      0.93      0.93       859\n",
      "\n",
      "0.9336437718277066\n",
      "0.9355829736764076\n",
      "0.8663210228436167\n"
     ]
    }
   ],
   "source": [
    "#Experiments\n",
    "mask = np.logical_and(covid19 !=2,verified !=2)\n",
    "mask = np.logical_and(mask, covid19 == verified )\n",
    "X, Y = areas[mask], verified[mask]\n",
    "neigh = train(X, Y)"
   ]
  },
  {
   "cell_type": "code",
   "execution_count": 25,
   "metadata": {},
   "outputs": [
    {
     "name": "stdout",
     "output_type": "stream",
     "text": [
      "              precision    recall  f1-score   support\n",
      "\n",
      "           0       0.93      0.95      0.94       478\n",
      "           1       0.93      0.91      0.92       381\n",
      "\n",
      "    accuracy                           0.93       859\n",
      "   macro avg       0.93      0.93      0.93       859\n",
      "weighted avg       0.93      0.93      0.93       859\n",
      "\n",
      "0.9289871944121071\n",
      "0.926871588750151\n",
      "0.8557943433976491\n",
      "---\n",
      "              precision    recall  f1-score   support\n",
      "\n",
      "           0       0.98      0.91      0.94       478\n",
      "           1       0.89      0.97      0.93       381\n",
      "\n",
      "    accuracy                           0.93       859\n",
      "   macro avg       0.93      0.94      0.93       859\n",
      "weighted avg       0.94      0.93      0.93       859\n",
      "\n",
      "0.9348079161816065\n",
      "0.9384931747548293\n",
      "0.8691168708201146\n",
      "---\n",
      "              precision    recall  f1-score   support\n",
      "\n",
      "           0       0.99      0.84      0.91       478\n",
      "           1       0.83      0.99      0.90       381\n",
      "\n",
      "    accuracy                           0.91       859\n",
      "   macro avg       0.91      0.92      0.91       859\n",
      "weighted avg       0.92      0.91      0.91       859\n",
      "\n",
      "0.9068684516880093\n",
      "0.9155190590715909\n",
      "0.8149773568039977\n",
      "---\n"
     ]
    }
   ],
   "source": [
    "print(classification_report(Y, X <= 2000))\n",
    "print(accuracy_score(Y, X <= 2000))\n",
    "fpr, tpr, thresholds = roc_curve(Y, X <= 2000)\n",
    "print(auc(fpr,tpr))\n",
    "print(cohen_kappa_score(Y,X <= 2000))\n",
    "print(\"---\")\n",
    "\n",
    "print(classification_report(Y, X <= 3000))\n",
    "print(accuracy_score(Y, X <= 3000))\n",
    "fpr, tpr, thresholds = roc_curve(Y, X <= 3000)\n",
    "print(auc(fpr,tpr))\n",
    "print(cohen_kappa_score(Y,X <= 3000))\n",
    "print(\"---\")\n",
    "\n",
    "print(classification_report(Y, X <= 4000))\n",
    "print(accuracy_score(Y, X <= 4000))\n",
    "fpr, tpr, thresholds = roc_curve(Y, X <= 4000)\n",
    "print(auc(fpr,tpr))\n",
    "print(cohen_kappa_score(Y,X <= 4000))\n",
    "print(\"---\")"
   ]
  },
  {
   "cell_type": "code",
   "execution_count": 29,
   "metadata": {},
   "outputs": [],
   "source": [
    "from sklearn.model_selection import train_test_split\n",
    "X = np.array(X).reshape(-1,1)\n",
    "Y = np.array(Y).reshape(-1)\n",
    "X_train, X_test, Y_train, Y_test = train_test_split(X, Y, test_size=0.20)"
   ]
  },
  {
   "cell_type": "code",
   "execution_count": 30,
   "metadata": {},
   "outputs": [
    {
     "name": "stdout",
     "output_type": "stream",
     "text": [
      "              precision    recall  f1-score   support\n",
      "\n",
      "           0       0.82      0.96      0.88        93\n",
      "           1       0.94      0.75      0.83        79\n",
      "\n",
      "    accuracy                           0.86       172\n",
      "   macro avg       0.88      0.85      0.86       172\n",
      "weighted avg       0.87      0.86      0.86       172\n",
      "\n",
      "0.8604651162790697\n",
      "0.8519123451749013\n",
      "0.7147201105736005\n"
     ]
    }
   ],
   "source": [
    "from sklearn.preprocessing import StandardScaler\n",
    "from sklearn.neighbors import KNeighborsClassifier\n",
    "\n",
    "\n",
    "scaler = StandardScaler()\n",
    "scaler.fit(X_train)\n",
    "\n",
    "X_train = scaler.transform(X_train)\n",
    "X_test = scaler.transform(X_test)\n",
    "\n",
    "classifier = KNeighborsClassifier(n_neighbors = 2)\n",
    "classifier.fit(X_train, Y_train)\n",
    "\n",
    "Y_pred = classifier.predict(X_test)\n",
    "\n",
    "print(classification_report(Y_test, Y_pred))\n",
    "print(accuracy_score(Y_test, Y_pred))\n",
    "fpr, tpr, thresholds = roc_curve(Y_test, Y_pred)\n",
    "print(auc(fpr,tpr))\n",
    "print(cohen_kappa_score(Y_test, Y_pred))\n"
   ]
  },
  {
   "cell_type": "code",
   "execution_count": null,
   "metadata": {},
   "outputs": [],
   "source": []
  }
 ],
 "metadata": {
  "kernelspec": {
   "display_name": "Python 3.8.5 ('fcan')",
   "language": "python",
   "name": "python3"
  },
  "language_info": {
   "codemirror_mode": {
    "name": "ipython",
    "version": 3
   },
   "file_extension": ".py",
   "mimetype": "text/x-python",
   "name": "python",
   "nbconvert_exporter": "python",
   "pygments_lexer": "ipython3",
   "version": "3.8.5"
  },
  "orig_nbformat": 4,
  "vscode": {
   "interpreter": {
    "hash": "9105ab0be51cae984c4f49f7ebad102668309b485635e647e6eeec81f07f96f2"
   }
  }
 },
 "nbformat": 4,
 "nbformat_minor": 2
}
