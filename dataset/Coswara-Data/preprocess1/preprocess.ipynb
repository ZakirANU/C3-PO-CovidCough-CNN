{
 "cells": [
  {
   "cell_type": "code",
   "execution_count": 1,
   "metadata": {},
   "outputs": [],
   "source": [
    "import os\n",
    "import pandas as pd\n",
    "import librosa\n",
    "import librosa.display\n",
    "import numpy as np\n",
    "from tqdm.notebook import tqdm\n",
    "from matplotlib import pyplot as plt\n",
    "import soundfile\n",
    "import pickle"
   ]
  },
  {
   "cell_type": "code",
   "execution_count": 2,
   "metadata": {},
   "outputs": [],
   "source": [
    "### Setup paths and directories\n",
    "dataset_path = \"..\"\n",
    "rawdata_path = os.path.join(dataset_path, \"Extracted_data\")\n",
    "out_path = \"raw\"\n",
    "metadata_path = os.path.join(dataset_path, \"combined_data.csv\")"
   ]
  },
  {
   "cell_type": "code",
   "execution_count": 3,
   "metadata": {},
   "outputs": [],
   "source": [
    "metadata = pd.read_csv(metadata_path, sep = \",\")"
   ]
  },
  {
   "cell_type": "code",
   "execution_count": 4,
   "metadata": {},
   "outputs": [],
   "source": [
    "metadata[\"covid\"] = 'X'\n",
    "metadata.loc[metadata[\"covid_status\"] == \"healthy\", \"covid\"] = 0\n",
    "metadata.loc[(metadata[\"covid_status\"] == \"positive_mild\") | (metadata[\"covid_status\"] == \"positive_moderate\"), \"covid\"] = 1\n",
    "metadata = metadata.loc[metadata[\"covid\"] != 'X']"
   ]
  },
  {
   "cell_type": "code",
   "execution_count": 5,
   "metadata": {},
   "outputs": [
    {
     "name": "stdout",
     "output_type": "stream",
     "text": [
      "       N_entries\n",
      "covid           \n",
      "0           1433\n",
      "1            591\n"
     ]
    }
   ],
   "source": [
    "print(metadata[['covid','id']].groupby(['covid']).count().rename(columns={'id':'N_entries'}))"
   ]
  },
  {
   "cell_type": "code",
   "execution_count": 6,
   "metadata": {},
   "outputs": [
    {
     "name": "stdout",
     "output_type": "stream",
     "text": [
      "       N_entries\n",
      "covid           \n",
      "0            591\n",
      "1            591\n"
     ]
    }
   ],
   "source": [
    "# Balance the number of each classes\n",
    "num = len(metadata.loc[metadata[\"covid\"] == 1])\n",
    "\n",
    "balanced_data = pd.concat([\n",
    "    metadata.loc[metadata[\"covid\"] == 1],\n",
    "    metadata.loc[metadata[\"covid\"] == 0].sample(n = num)\n",
    "    # metadata.loc[metadata[\"covid\"] == 2].sample(n = num)\n",
    "])\n",
    "\n",
    "print(balanced_data[['covid','id']].groupby(['covid']).count().rename(columns={'id':'N_entries'}))"
   ]
  },
  {
   "cell_type": "code",
   "execution_count": 7,
   "metadata": {},
   "outputs": [
    {
     "data": {
      "application/vnd.jupyter.widget-view+json": {
       "model_id": "c95556223880481593a7499207a0ddf4",
       "version_major": 2,
       "version_minor": 0
      },
      "text/plain": [
       "  0%|          | 0/1182 [00:00<?, ?it/s]"
      ]
     },
     "metadata": {},
     "output_type": "display_data"
    },
    {
     "name": "stdout",
     "output_type": "stream",
     "text": [
      "Empty audio\n",
      "Resampling...\n",
      "Resampling...\n",
      "Resampling...\n",
      "Resampling...\n",
      "Resampling...\n",
      "Resampling...\n",
      "Resampling...\n",
      "Resampling...\n",
      "Resampling...\n",
      "Empty audio\n",
      "Resampling...\n",
      "Resampling...\n",
      "Empty audio\n",
      "Resampling...\n",
      "Resampling...\n",
      "Resampling...\n",
      "Resampling...\n",
      "Resampling...\n",
      "Resampling...\n",
      "Resampling...\n",
      "Empty audio\n",
      "Resampling...\n",
      "Empty audio\n",
      "Resampling...\n",
      "Resampling...\n",
      "Resampling...\n",
      "Resampling...\n",
      "Empty audio\n",
      "Resampling...\n",
      "Resampling...\n",
      "Resampling...\n",
      "Resampling...\n",
      "Resampling...\n",
      "Empty audio\n",
      "Resampling...\n",
      "Resampling...\n",
      "Resampling...\n",
      "Resampling...\n",
      "Resampling...\n",
      "Resampling...\n",
      "Resampling...\n",
      "Resampling...\n",
      "Empty audio\n",
      "Empty audio\n",
      "Empty audio\n",
      "Resampling...\n",
      "Resampling...\n",
      "Resampling...\n",
      "Resampling...\n",
      "Empty audio\n",
      "Resampling...\n",
      "Resampling...\n",
      "Resampling...\n",
      "Resampling...\n",
      "Resampling...\n",
      "Resampling...\n",
      "Resampling...\n",
      "Resampling...\n",
      "Resampling...\n",
      "Resampling...\n",
      "Resampling...\n",
      "Resampling...\n",
      "Resampling...\n",
      "Resampling...\n",
      "Empty audio\n",
      "Empty audio\n",
      "Resampling...\n",
      "Resampling...\n",
      "Empty audio\n",
      "Empty audio\n",
      "Empty audio\n",
      "Empty audio\n",
      "Resampling...\n",
      "Resampling...\n",
      "Resampling...\n",
      "Resampling...\n",
      "Resampling...\n",
      "Resampling...\n",
      "Resampling...\n",
      "Resampling...\n",
      "Resampling...\n",
      "Resampling...\n",
      "Empty audio\n",
      "Resampling...\n",
      "Resampling...\n",
      "Resampling...\n",
      "Resampling...\n",
      "Empty audio\n",
      "Resampling...\n",
      "Resampling...\n",
      "Resampling...\n",
      "Resampling...\n",
      "Resampling...\n"
     ]
    }
   ],
   "source": [
    "data = {\n",
    "    \"filename\": [],\n",
    "    \"signal\": [],\n",
    "    \"label\": []\n",
    "}\n",
    "\n",
    "sample_rate = 48000\n",
    "fix_length = sample_rate * 3\n",
    "\n",
    "for uuid, covid in tqdm(zip(balanced_data[\"id\"].values, balanced_data[\"covid\"].values), total = len(balanced_data)):\n",
    "\n",
    "    file_path = os.path.join(rawdata_path, uuid, \"cough-heavy.wav\")\n",
    "    \n",
    "    if not os.path.exists(file_path):\n",
    "        print(f\"could not find audio file for uuid: {uuid}\")\n",
    "        continue\n",
    "\n",
    "    signal, sr = librosa.load(file_path, sr = None)\n",
    "\n",
    "    if signal.size == 0:\n",
    "        print(\"Empty audio\")\n",
    "        continue\n",
    "\n",
    "    if sr != sample_rate:\n",
    "        print(\"Resampling...\")\n",
    "        signal = librosa.resample(signal, orig_sr = sr, target_sr = sample_rate)\n",
    "\n",
    "    signal = librosa.util.fix_length(signal, size = fix_length)\n",
    "\n",
    "    data[\"filename\"].append(uuid)\n",
    "    data[\"signal\"].append(signal)\n",
    "    data[\"label\"].append(covid)\n"
   ]
  },
  {
   "cell_type": "code",
   "execution_count": 8,
   "metadata": {},
   "outputs": [
    {
     "name": "stdout",
     "output_type": "stream",
     "text": [
      "covid: 0, 574\n",
      "covid: 1, 589\n"
     ]
    }
   ],
   "source": [
    "print(\"covid: 0, {}\".format(np.sum(np.asarray(data[\"label\"]) == 0)))\n",
    "print(\"covid: 1, {}\".format(np.sum(np.asarray(data[\"label\"]) == 1)))"
   ]
  },
  {
   "cell_type": "code",
   "execution_count": 9,
   "metadata": {},
   "outputs": [
    {
     "data": {
      "text/plain": [
       "(1163, 144000)"
      ]
     },
     "execution_count": 9,
     "metadata": {},
     "output_type": "execute_result"
    }
   ],
   "source": [
    "signals = np.asarray(data[\"signal\"])\n",
    "signals.shape"
   ]
  },
  {
   "cell_type": "code",
   "execution_count": 10,
   "metadata": {},
   "outputs": [],
   "source": [
    "with open(\"signals_144000.pkl\", \"wb\") as f:\n",
    "    pickle.dump(data, f)"
   ]
  },
  {
   "cell_type": "code",
   "execution_count": 11,
   "metadata": {},
   "outputs": [],
   "source": [
    "n_mfcc = 39\n",
    "frame_length = 2048 # about 40ms per frame\n",
    "hop_length = frame_length // 2\n",
    "\n",
    "\n",
    "mfccs = librosa.feature.mfcc(y = signals, n_mfcc = n_mfcc, n_fft = frame_length, hop_length = hop_length)"
   ]
  },
  {
   "cell_type": "code",
   "execution_count": 12,
   "metadata": {},
   "outputs": [
    {
     "data": {
      "text/plain": [
       "(1163, 39, 141)"
      ]
     },
     "execution_count": 12,
     "metadata": {},
     "output_type": "execute_result"
    }
   ],
   "source": [
    "mfccs.shape"
   ]
  },
  {
   "cell_type": "code",
   "execution_count": 13,
   "metadata": {},
   "outputs": [],
   "source": [
    "filename = f\"mfcc39_fixlength_{fix_length}_nmfcc_{n_mfcc}_framelength_{frame_length}_hoplength_{hop_length}.npy\""
   ]
  },
  {
   "cell_type": "code",
   "execution_count": 14,
   "metadata": {},
   "outputs": [],
   "source": [
    "np.save(filename, mfccs)"
   ]
  },
  {
   "cell_type": "code",
   "execution_count": null,
   "metadata": {},
   "outputs": [],
   "source": []
  }
 ],
 "metadata": {
  "kernelspec": {
   "display_name": "Python 3.7.6 ('torch171')",
   "language": "python",
   "name": "python3"
  },
  "language_info": {
   "codemirror_mode": {
    "name": "ipython",
    "version": 3
   },
   "file_extension": ".py",
   "mimetype": "text/x-python",
   "name": "python",
   "nbconvert_exporter": "python",
   "pygments_lexer": "ipython3",
   "version": "3.7.6"
  },
  "orig_nbformat": 4,
  "vscode": {
   "interpreter": {
    "hash": "5fa1258f31565bd75bae15403fb9c8323f2718a24a89fae8f2d483e357ac959a"
   }
  }
 },
 "nbformat": 4,
 "nbformat_minor": 2
}
