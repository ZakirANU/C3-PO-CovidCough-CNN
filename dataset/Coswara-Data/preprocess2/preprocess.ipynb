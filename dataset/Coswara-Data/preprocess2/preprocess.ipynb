{
 "cells": [
  {
   "cell_type": "code",
   "execution_count": 1,
   "metadata": {},
   "outputs": [],
   "source": [
    "import os\n",
    "import pandas as pd\n",
    "import librosa\n",
    "import librosa.display\n",
    "import numpy as np\n",
    "from tqdm.notebook import tqdm\n",
    "import webrtcvad\n",
    "from matplotlib import pyplot as plt\n",
    "import soundfile\n",
    "import pickle"
   ]
  },
  {
   "cell_type": "code",
   "execution_count": 2,
   "metadata": {},
   "outputs": [],
   "source": [
    "import sys\n",
    "sys.path.append(r'../../..')\n",
    "import VAT"
   ]
  },
  {
   "cell_type": "code",
   "execution_count": 3,
   "metadata": {},
   "outputs": [],
   "source": [
    "### Setup paths and directories\n",
    "dataset_path = \"..\"\n",
    "rawdata_path = os.path.join(dataset_path, \"Extracted_data\")\n",
    "out_path = \"raw\"\n",
    "metadata_path = os.path.join(dataset_path, \"combined_data.csv\")"
   ]
  },
  {
   "cell_type": "code",
   "execution_count": 4,
   "metadata": {},
   "outputs": [],
   "source": [
    "metadata = pd.read_csv(metadata_path, sep = \",\")"
   ]
  },
  {
   "cell_type": "code",
   "execution_count": 5,
   "metadata": {},
   "outputs": [],
   "source": [
    "metadata[\"covid\"] = 'X'\n",
    "metadata.loc[metadata[\"covid_status\"] == \"healthy\", \"covid\"] = 0\n",
    "metadata.loc[(metadata[\"covid_status\"] == \"positive_mild\") | (metadata[\"covid_status\"] == \"positive_moderate\"), \"covid\"] = 1\n",
    "metadata = metadata.loc[metadata[\"covid\"] != 'X']"
   ]
  },
  {
   "cell_type": "code",
   "execution_count": 6,
   "metadata": {},
   "outputs": [
    {
     "name": "stdout",
     "output_type": "stream",
     "text": [
      "       N_entries\n",
      "covid           \n",
      "0           1433\n",
      "1            591\n"
     ]
    }
   ],
   "source": [
    "print(metadata[['covid','id']].groupby(['covid']).count().rename(columns={'id':'N_entries'}))"
   ]
  },
  {
   "cell_type": "code",
   "execution_count": 7,
   "metadata": {},
   "outputs": [
    {
     "name": "stdout",
     "output_type": "stream",
     "text": [
      "       N_entries\n",
      "covid           \n",
      "0            591\n",
      "1            591\n"
     ]
    }
   ],
   "source": [
    "# Balance the number of each classes\n",
    "num = len(metadata.loc[metadata[\"covid\"] == 1])\n",
    "\n",
    "balanced_data = pd.concat([\n",
    "    metadata.loc[metadata[\"covid\"] == 1],\n",
    "    metadata.loc[metadata[\"covid\"] == 0].sample(n = num)\n",
    "    # metadata.loc[metadata[\"covid\"] == 2].sample(n = num)\n",
    "])\n",
    "\n",
    "print(balanced_data[['covid','id']].groupby(['covid']).count().rename(columns={'id':'N_entries'}))"
   ]
  },
  {
   "cell_type": "code",
   "execution_count": 18,
   "metadata": {},
   "outputs": [
    {
     "data": {
      "application/vnd.jupyter.widget-view+json": {
       "model_id": "765b24666d884b02974b2a658411739d",
       "version_major": 2,
       "version_minor": 0
      },
      "text/plain": [
       "  0%|          | 0/1182 [00:00<?, ?it/s]"
      ]
     },
     "metadata": {},
     "output_type": "display_data"
    },
    {
     "name": "stdout",
     "output_type": "stream",
     "text": [
      "ERROR: No active voice detected.\n",
      "ERROR: No active voice detected.\n",
      "ERROR: No active voice detected.\n",
      "ERROR: No active voice detected.\n",
      "ERROR: No active voice detected.\n",
      "ERROR: No active voice detected.\n",
      "Empty audio\n",
      "ERROR: No active voice detected.\n",
      "ERROR: No active voice detected.\n",
      "ERROR: No active voice detected.\n",
      "ERROR: No active voice detected.\n",
      "Resampling...\n",
      "ERROR: No active voice detected.\n",
      "Resampling...\n",
      "Resampling...\n",
      "ERROR: No active voice detected.\n",
      "ERROR: No active voice detected.\n",
      "ERROR: No active voice detected.\n",
      "Resampling...\n",
      "ERROR: No active voice detected.\n",
      "Resampling...\n",
      "ERROR: No active voice detected.\n",
      "ERROR: No active voice detected.\n",
      "Resampling...\n",
      "Resampling...\n",
      "ERROR: No active voice detected.\n",
      "Resampling...\n",
      "Resampling...\n",
      "ERROR: No active voice detected.\n",
      "ERROR: No active voice detected.\n",
      "ERROR: No active voice detected.\n",
      "ERROR: No active voice detected.\n",
      "ERROR: No active voice detected.\n",
      "ERROR: No active voice detected.\n",
      "ERROR: No active voice detected.\n",
      "ERROR: No active voice detected.\n",
      "ERROR: No active voice detected.\n",
      "ERROR: No active voice detected.\n",
      "Empty audio\n",
      "ERROR: No active voice detected.\n",
      "ERROR: No active voice detected.\n",
      "ERROR: No active voice detected.\n",
      "ERROR: No active voice detected.\n",
      "ERROR: No active voice detected.\n",
      "Resampling...\n",
      "ERROR: No active voice detected.\n",
      "ERROR: No active voice detected.\n",
      "ERROR: No active voice detected.\n",
      "Resampling...\n",
      "ERROR: No active voice detected.\n",
      "Empty audio\n",
      "Empty audio\n",
      "ERROR: No active voice detected.\n",
      "Resampling...\n",
      "Resampling...\n",
      "Resampling...\n",
      "Resampling...\n",
      "Empty audio\n",
      "Resampling...\n",
      "Resampling...\n",
      "Resampling...\n",
      "Resampling...\n",
      "ERROR: No active voice detected.\n",
      "Resampling...\n",
      "ERROR: No active voice detected.\n",
      "Resampling...\n",
      "ERROR: No active voice detected.\n",
      "Resampling...\n",
      "ERROR: No active voice detected.\n",
      "Resampling...\n",
      "ERROR: No active voice detected.\n",
      "Resampling...\n",
      "Empty audio\n",
      "Resampling...\n",
      "ERROR: No active voice detected.\n",
      "Resampling...\n",
      "Resampling...\n",
      "ERROR: No active voice detected.\n",
      "Resampling...\n",
      "Empty audio\n",
      "Empty audio\n",
      "Resampling...\n",
      "Empty audio\n",
      "ERROR: No active voice detected.\n",
      "Empty audio\n",
      "Resampling...\n",
      "ERROR: No active voice detected.\n",
      "Resampling...\n",
      "Resampling...\n",
      "ERROR: No active voice detected.\n",
      "ERROR: No active voice detected.\n",
      "Resampling...\n",
      "Empty audio\n",
      "ERROR: No active voice detected.\n",
      "Resampling...\n",
      "Resampling...\n",
      "Resampling...\n",
      "ERROR: No active voice detected.\n",
      "ERROR: No active voice detected.\n",
      "Resampling...\n",
      "ERROR: No active voice detected.\n",
      "ERROR: No active voice detected.\n",
      "Resampling...\n",
      "ERROR: No active voice detected.\n",
      "Resampling...\n",
      "ERROR: No active voice detected.\n",
      "Resampling...\n",
      "Resampling...\n",
      "ERROR: No active voice detected.\n",
      "ERROR: No active voice detected.\n",
      "Resampling...\n",
      "ERROR: No active voice detected.\n",
      "ERROR: No active voice detected.\n",
      "Resampling...\n",
      "Empty audio\n",
      "Empty audio\n",
      "Resampling...\n",
      "Empty audio\n",
      "Resampling...\n",
      "ERROR: No active voice detected.\n",
      "ERROR: No active voice detected.\n",
      "ERROR: No active voice detected.\n",
      "Empty audio\n",
      "Empty audio\n",
      "Resampling...\n",
      "Resampling...\n",
      "Resampling...\n",
      "Resampling...\n",
      "Resampling...\n",
      "ERROR: No active voice detected.\n",
      "Resampling...\n",
      "ERROR: No active voice detected.\n",
      "ERROR: No active voice detected.\n",
      "ERROR: No active voice detected.\n",
      "Resampling...\n",
      "Resampling...\n",
      "Resampling...\n",
      "ERROR: No active voice detected.\n",
      "Resampling...\n",
      "ERROR: No active voice detected.\n",
      "Resampling...\n",
      "ERROR: No active voice detected.\n",
      "ERROR: No active voice detected.\n",
      "Resampling...\n",
      "Resampling...\n",
      "Resampling...\n",
      "Resampling...\n",
      "Resampling...\n",
      "Resampling...\n",
      "ERROR: No active voice detected.\n",
      "Empty audio\n",
      "Resampling...\n",
      "Resampling...\n",
      "Resampling...\n",
      "ERROR: No active voice detected.\n",
      "Resampling...\n",
      "Resampling...\n",
      "Resampling...\n"
     ]
    }
   ],
   "source": [
    "dataVAT = {\n",
    "    \"filename\": [],\n",
    "    \"signal\": [],\n",
    "    \"label\": []\n",
    "}\n",
    "\n",
    "sampleRate = 48000\n",
    "\n",
    "for uuid, covid in tqdm(zip(balanced_data[\"id\"].values, balanced_data[\"covid\"].values), total = len(balanced_data)):\n",
    "\n",
    "    file_path = os.path.join(rawdata_path, uuid, \"cough-heavy.wav\")\n",
    "    \n",
    "    if not os.path.exists(file_path):\n",
    "        print(f\"could not find audio file for uuid: {uuid}\")\n",
    "        continue\n",
    "\n",
    "    signal, sr = librosa.load(file_path, sr = None)\n",
    "\n",
    "    if signal.size == 0:\n",
    "        print(\"Empty audio\")\n",
    "        continue\n",
    "\n",
    "    if sr != sampleRate:\n",
    "        print(\"Resampling...\")\n",
    "        signal = librosa.resample(signal, orig_sr = sr, target_sr = sampleRate)\n",
    "\n",
    "    pcm16 = VAT.float_to_pcm16(signal)\n",
    "    frame_duration = 0.01\n",
    "    vad_mode = 3\n",
    "    vad_res = VAT.detectVoiceActivity(pcm16, sampleRate, frame_duration, vad_mode)\n",
    "    sample, start = VAT.sampleVoiceActivity(signal, vad_res, frame_duration, sampleRate)\n",
    "\n",
    "    if sample is None:\n",
    "        continue\n",
    "\n",
    "    dataVAT[\"filename\"].append(uuid)\n",
    "    dataVAT[\"signal\"].append(sample)\n",
    "    dataVAT[\"label\"].append(covid)\n"
   ]
  },
  {
   "cell_type": "code",
   "execution_count": 19,
   "metadata": {},
   "outputs": [
    {
     "name": "stdout",
     "output_type": "stream",
     "text": [
      "covid: 0, 539\n",
      "covid: 1, 553\n"
     ]
    }
   ],
   "source": [
    "print(\"covid: 0, {}\".format(np.sum(np.asarray(dataVAT[\"label\"]) == 0)))\n",
    "print(\"covid: 1, {}\".format(np.sum(np.asarray(dataVAT[\"label\"]) == 1)))"
   ]
  },
  {
   "cell_type": "code",
   "execution_count": 20,
   "metadata": {},
   "outputs": [
    {
     "data": {
      "text/plain": [
       "(1092, 48000)"
      ]
     },
     "execution_count": 20,
     "metadata": {},
     "output_type": "execute_result"
    }
   ],
   "source": [
    "signals = np.asarray(dataVAT[\"signal\"])\n",
    "signals.shape"
   ]
  },
  {
   "cell_type": "code",
   "execution_count": 21,
   "metadata": {},
   "outputs": [],
   "source": [
    "with open(\"vat_48000.pkl\", \"wb\") as f:\n",
    "    pickle.dump(dataVAT, f)"
   ]
  },
  {
   "cell_type": "code",
   "execution_count": null,
   "metadata": {},
   "outputs": [],
   "source": []
  }
 ],
 "metadata": {
  "kernelspec": {
   "display_name": "Python 3.7.6 ('torch171')",
   "language": "python",
   "name": "python3"
  },
  "language_info": {
   "codemirror_mode": {
    "name": "ipython",
    "version": 3
   },
   "file_extension": ".py",
   "mimetype": "text/x-python",
   "name": "python",
   "nbconvert_exporter": "python",
   "pygments_lexer": "ipython3",
   "version": "3.7.6"
  },
  "orig_nbformat": 4,
  "vscode": {
   "interpreter": {
    "hash": "5fa1258f31565bd75bae15403fb9c8323f2718a24a89fae8f2d483e357ac959a"
   }
  }
 },
 "nbformat": 4,
 "nbformat_minor": 2
}
