{
 "cells": [
  {
   "cell_type": "code",
   "execution_count": 21,
   "metadata": {},
   "outputs": [],
   "source": [
    "import json\n",
    "import librosa \n",
    "import librosa.display\n",
    "import numpy as np\n",
    "import os\n",
    "from tqdm.notebook import tqdm\n",
    "import warnings\n",
    "from audio2numpy import open_audio\n",
    "\n",
    "import torch\n",
    "import torch.nn as nn\n",
    "import torch.nn.functional as F\n",
    "import torch.optim as optim\n",
    "import torchvision\n",
    "import torchvision.transforms as transforms\n",
    "from torch.utils.data import Dataset, DataLoader\n",
    "\n",
    "from matplotlib import pyplot as plt\n",
    "\n",
    "import pickle\n",
    "\n",
    "warnings.filterwarnings(\"ignore\")\n"
   ]
  },
  {
   "cell_type": "code",
   "execution_count": 3,
   "metadata": {},
   "outputs": [],
   "source": [
    "import sys\n",
    "sys.path.append(\"../../../\")\n",
    "from utils.segmentation import segment_cough\n",
    "import sounddevice as sd"
   ]
  },
  {
   "cell_type": "code",
   "execution_count": 4,
   "metadata": {},
   "outputs": [],
   "source": [
    "# Set dataset path\n",
    "datasetPath = r\"..\"\n",
    "rawDataPath = os.path.join(datasetPath, \"raw\")\n",
    "outPath = \"raw\""
   ]
  },
  {
   "cell_type": "code",
   "execution_count": 29,
   "metadata": {},
   "outputs": [
    {
     "name": "stdout",
     "output_type": "stream",
     "text": [
      "covid: 0, 438\n",
      "covid: 1, 381\n"
     ]
    }
   ],
   "source": [
    "with open(os.path.join(datasetPath, \"verified_sr_8000.pkl\"), \"rb\") as f:\n",
    "    data_seg = pickle.load(f)\n",
    "\n",
    "print(\"covid: 0, {}\".format(np.sum(np.asarray(data_seg[\"covid\"]) == 0)))\n",
    "print(\"covid: 1, {}\".format(np.sum(np.asarray(data_seg[\"covid\"]) == 1)))"
   ]
  },
  {
   "attachments": {},
   "cell_type": "markdown",
   "metadata": {},
   "source": [
    "Example"
   ]
  },
  {
   "cell_type": "code",
   "execution_count": 15,
   "metadata": {},
   "outputs": [],
   "source": [
    "sample_rate = 48000\n",
    "sample = librosa.resample(data_seg[\"signal\"][0], orig_sr=8000, target_sr=sample_rate)"
   ]
  },
  {
   "cell_type": "code",
   "execution_count": 20,
   "metadata": {},
   "outputs": [
    {
     "data": {
      "image/png": "[encoded data removed]",
      "text/plain": [
       "<Figure size 432x288 with 1 Axes>"
      ]
     },
     "metadata": {
      "needs_background": "light"
     },
     "output_type": "display_data"
    }
   ],
   "source": [
    "librosa.display.waveshow(y = sample, sr = sample_rate)\n",
    "sd.play(sample, sample_rate)"
   ]
  },
  {
   "cell_type": "code",
   "execution_count": 22,
   "metadata": {},
   "outputs": [
    {
     "data": {
      "text/plain": [
       "Text(0.5, 1.0, 'Segmentation Output')"
      ]
     },
     "execution_count": 22,
     "metadata": {},
     "output_type": "execute_result"
    },
    {
     "data": {
      "image/png": "[encoded data removed]",
      "text/plain": [
       "<Figure size 432x288 with 1 Axes>"
      ]
     },
     "metadata": {
      "needs_background": "light"
     },
     "output_type": "display_data"
    }
   ],
   "source": [
    "cough_segments, cough_mask = segment_cough(sample, sample_rate, cough_padding=0)\n",
    "\n",
    "plt.plot(sample)\n",
    "plt.plot(cough_mask)\n",
    "plt.title(\"Segmentation Output\")"
   ]
  },
  {
   "cell_type": "code",
   "execution_count": 24,
   "metadata": {},
   "outputs": [],
   "source": [
    "sd.play(cough_segments[1], sample_rate)"
   ]
  },
  {
   "attachments": {},
   "cell_type": "markdown",
   "metadata": {},
   "source": [
    "Preprocess"
   ]
  },
  {
   "cell_type": "code",
   "execution_count": 34,
   "metadata": {},
   "outputs": [
    {
     "data": {
      "application/vnd.jupyter.widget-view+json": {
       "model_id": "bde4c795388a4a698332af9b9420e78e",
       "version_major": 2,
       "version_minor": 0
      },
      "text/plain": [
       "  0%|          | 0/819 [00:00<?, ?it/s]"
      ]
     },
     "metadata": {},
     "output_type": "display_data"
    }
   ],
   "source": [
    "data_seg = {\n",
    "    \"filename\": [],\n",
    "    \"signal\": [],\n",
    "    \"label\": []\n",
    "}\n",
    "\n",
    "sample_rate = 48000\n",
    "\n",
    "for uuid, signal, covid in tqdm(zip(data_seg[\"filename\"], data_seg[\"signal\"], data_seg[\"covid\"]), total = len(data_seg[\"filename\"])):\n",
    "\n",
    "    signal = librosa.resample(signal, orig_sr=8000, target_sr=sample_rate)\n",
    "\n",
    "    if signal.size == 0:\n",
    "        print(\"Empty audio\")\n",
    "        continue\n",
    "\n",
    "    cough_segments, cough_mask = segment_cough(signal, sample_rate, cough_padding=0)\n",
    "\n",
    "    for i, seg in enumerate(cough_segments):\n",
    "        data_seg[\"filename\"].append(uuid + f\"_seg_{i}\")\n",
    "        data_seg[\"signal\"].append(seg)\n",
    "        data_seg[\"label\"].append(covid)\n",
    "        break\n"
   ]
  },
  {
   "cell_type": "code",
   "execution_count": 36,
   "metadata": {},
   "outputs": [
    {
     "name": "stdout",
     "output_type": "stream",
     "text": [
      "all: 510\n",
      "negative: 346\n",
      "positive: 164\n"
     ]
    }
   ],
   "source": [
    "print(\"all:\", len(data_seg[\"signal\"]))\n",
    "print(\"negative:\", sum(np.asarray(data_seg[\"label\"]) == 0))\n",
    "print(\"positive:\",sum(np.asarray(data_seg[\"label\"]) == 1))"
   ]
  },
  {
   "cell_type": "code",
   "execution_count": 38,
   "metadata": {},
   "outputs": [],
   "source": [
    "with open(\"segments.pkl\", \"wb\") as f:\n",
    "    pickle.dump(data_seg, f)"
   ]
  },
  {
   "cell_type": "code",
   "execution_count": 39,
   "metadata": {},
   "outputs": [],
   "source": [
    "balanced = {\n",
    "    \"filename\": [],\n",
    "    \"signal\": [],\n",
    "    \"label\": []\n",
    "}\n",
    "\n",
    "n_pos = sum(np.asarray(data_seg[\"label\"]) == 1)\n",
    "n_neg = sum(np.asarray(data_seg[\"label\"]) == 0)\n",
    "choices = np.random.choice(range(n_neg), n_pos, replace = False) + 1\n",
    "\n",
    "count = 0\n",
    "for i in range(len(data_seg[\"filename\"])):\n",
    "    if data_seg[\"label\"][i] == 0:\n",
    "        count += 1\n",
    "        if count not in choices:\n",
    "            continue\n",
    "    balanced[\"filename\"].append(data_seg[\"filename\"][i])\n",
    "    balanced[\"signal\"].append(data_seg[\"signal\"][i])\n",
    "    balanced[\"label\"].append(data_seg[\"label\"][i])"
   ]
  },
  {
   "cell_type": "code",
   "execution_count": 40,
   "metadata": {},
   "outputs": [
    {
     "name": "stdout",
     "output_type": "stream",
     "text": [
      "all: 328\n",
      "negative: 164\n",
      "positive: 164\n"
     ]
    }
   ],
   "source": [
    "print(\"all:\", len(balanced[\"signal\"]))\n",
    "print(\"negative:\", sum(np.asarray(balanced[\"label\"]) == 0))\n",
    "print(\"positive:\",sum(np.asarray(balanced[\"label\"]) == 1))"
   ]
  },
  {
   "cell_type": "code",
   "execution_count": 41,
   "metadata": {},
   "outputs": [],
   "source": [
    "with open(\"balanced.pkl\", \"wb\") as f:\n",
    "    pickle.dump(balanced, f)"
   ]
  },
  {
   "cell_type": "code",
   "execution_count": 42,
   "metadata": {},
   "outputs": [
    {
     "data": {
      "text/plain": [
       "(array([12., 14., 16., 10., 14., 10., 15., 11.,  9., 17., 11., 11., 15.,\n",
       "        17., 11.,  7., 11.,  9., 10.,  9.,  9.,  9.,  4.,  3.,  7.,  3.,\n",
       "         3.,  3.,  4.,  6.,  4.,  1.,  0.,  1.,  4.,  2.,  0.,  4.,  1.,\n",
       "         1.,  0.,  0.,  1.,  1.,  1.,  1.,  1.,  1.,  1.,  1.,  0.,  0.,\n",
       "         1.,  1.,  0.,  0.,  0.,  1.,  0.,  0.,  0.,  1.,  0.,  0.,  0.,\n",
       "         0.,  0.,  1.,  0.,  1.,  1.,  2.,  0.,  0.,  0.,  0.,  0.,  0.,\n",
       "         0.,  0.,  0.,  0.,  0.,  0.,  0.,  0.,  0.,  0.,  0.,  0.,  1.,\n",
       "         0.,  0.,  0.,  0.,  0.,  1.,  0.,  0.,  1.]),\n",
       " array([ 9616.  ,  9977.19, 10338.38, 10699.57, 11060.76, 11421.95,\n",
       "        11783.14, 12144.33, 12505.52, 12866.71, 13227.9 , 13589.09,\n",
       "        13950.28, 14311.47, 14672.66, 15033.85, 15395.04, 15756.23,\n",
       "        16117.42, 16478.61, 16839.8 , 17200.99, 17562.18, 17923.37,\n",
       "        18284.56, 18645.75, 19006.94, 19368.13, 19729.32, 20090.51,\n",
       "        20451.7 , 20812.89, 21174.08, 21535.27, 21896.46, 22257.65,\n",
       "        22618.84, 22980.03, 23341.22, 23702.41, 24063.6 , 24424.79,\n",
       "        24785.98, 25147.17, 25508.36, 25869.55, 26230.74, 26591.93,\n",
       "        26953.12, 27314.31, 27675.5 , 28036.69, 28397.88, 28759.07,\n",
       "        29120.26, 29481.45, 29842.64, 30203.83, 30565.02, 30926.21,\n",
       "        31287.4 , 31648.59, 32009.78, 32370.97, 32732.16, 33093.35,\n",
       "        33454.54, 33815.73, 34176.92, 34538.11, 34899.3 , 35260.49,\n",
       "        35621.68, 35982.87, 36344.06, 36705.25, 37066.44, 37427.63,\n",
       "        37788.82, 38150.01, 38511.2 , 38872.39, 39233.58, 39594.77,\n",
       "        39955.96, 40317.15, 40678.34, 41039.53, 41400.72, 41761.91,\n",
       "        42123.1 , 42484.29, 42845.48, 43206.67, 43567.86, 43929.05,\n",
       "        44290.24, 44651.43, 45012.62, 45373.81, 45735.  ]),\n",
       " <BarContainer object of 100 artists>)"
      ]
     },
     "execution_count": 42,
     "metadata": {},
     "output_type": "execute_result"
    },
    {
     "data": {
      "image/png": "[encoded data removed]",
      "text/plain": [
       "<Figure size 432x288 with 1 Axes>"
      ]
     },
     "metadata": {
      "needs_background": "light"
     },
     "output_type": "display_data"
    }
   ],
   "source": [
    "lengths = [len(x) for x in balanced[\"signal\"]]\n",
    "plt.hist(lengths, 100)"
   ]
  },
  {
   "cell_type": "code",
   "execution_count": 43,
   "metadata": {},
   "outputs": [
    {
     "data": {
      "text/plain": [
       "0.9725609756097561"
      ]
     },
     "execution_count": 43,
     "metadata": {},
     "output_type": "execute_result"
    }
   ],
   "source": [
    "lengths = np.asarray(lengths)\n",
    "np.sum(lengths < 30720) / len(lengths)"
   ]
  },
  {
   "cell_type": "code",
   "execution_count": 44,
   "metadata": {},
   "outputs": [],
   "source": [
    "fix_length = 30720\n",
    "fix_length_signals = [librosa.util.fix_length(x, size = fix_length) for x in balanced[\"signal\"]]"
   ]
  },
  {
   "cell_type": "code",
   "execution_count": 45,
   "metadata": {},
   "outputs": [],
   "source": [
    "cropped = {\n",
    "    \"filename\": balanced[\"filename\"],\n",
    "    \"signal\": fix_length_signals,\n",
    "    \"label\": balanced[\"label\"]\n",
    "}"
   ]
  },
  {
   "cell_type": "code",
   "execution_count": 48,
   "metadata": {},
   "outputs": [],
   "source": [
    "with open(\"cropped_30720.pkl\", \"wb\") as f:\n",
    "    pickle.dump(cropped, f)"
   ]
  },
  {
   "cell_type": "code",
   "execution_count": 49,
   "metadata": {},
   "outputs": [],
   "source": [
    "signals = np.asarray(cropped[\"signal\"])"
   ]
  },
  {
   "cell_type": "code",
   "execution_count": 50,
   "metadata": {},
   "outputs": [
    {
     "data": {
      "text/plain": [
       "(328, 39, 31)"
      ]
     },
     "execution_count": 50,
     "metadata": {},
     "output_type": "execute_result"
    }
   ],
   "source": [
    "n_mfcc = 39\n",
    "frame_length = 2048\n",
    "hop_length = frame_length // 2\n",
    "mfccs = librosa.feature.mfcc(y = signals, n_mfcc = n_mfcc, n_fft = frame_length, hop_length = hop_length)\n",
    "mfccs.shape"
   ]
  },
  {
   "cell_type": "code",
   "execution_count": 51,
   "metadata": {},
   "outputs": [],
   "source": [
    "filename = f\"mfcc39_fixlength_{fix_length}_nmfcc_{n_mfcc}_framelength_{frame_length}_hoplength_{hop_length}.npy\"\n",
    "np.save(filename, mfccs)"
   ]
  },
  {
   "cell_type": "code",
   "execution_count": null,
   "metadata": {},
   "outputs": [],
   "source": []
  }
 ],
 "metadata": {
  "kernelspec": {
   "display_name": "fcan",
   "language": "python",
   "name": "python3"
  },
  "language_info": {
   "codemirror_mode": {
    "name": "ipython",
    "version": 3
   },
   "file_extension": ".py",
   "mimetype": "text/x-python",
   "name": "python",
   "nbconvert_exporter": "python",
   "pygments_lexer": "ipython3",
   "version": "3.8.5 (default, Sep  3 2020, 21:29:08) [MSC v.1916 64 bit (AMD64)]"
  },
  "orig_nbformat": 4,
  "vscode": {
   "interpreter": {
    "hash": "9105ab0be51cae984c4f49f7ebad102668309b485635e647e6eeec81f07f96f2"
   }
  }
 },
 "nbformat": 4,
 "nbformat_minor": 2
}
