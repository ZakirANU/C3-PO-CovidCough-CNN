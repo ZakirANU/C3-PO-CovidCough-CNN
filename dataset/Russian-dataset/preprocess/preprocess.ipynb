{
 "cells": [
  {
   "cell_type": "code",
   "execution_count": 15,
   "metadata": {},
   "outputs": [],
   "source": [
    "import json\n",
    "import numpy as np\n",
    "import os\n",
    "from tqdm.notebook import tqdm\n",
    "import warnings\n",
    "from audio2numpy import open_audio\n",
    "\n",
    "import pandas as pd\n",
    "from matplotlib import pyplot as plt\n",
    "\n",
    "import pickle\n",
    "\n",
    "warnings.filterwarnings(\"ignore\")\n"
   ]
  },
  {
   "cell_type": "code",
   "execution_count": 7,
   "metadata": {},
   "outputs": [],
   "source": [
    "import sys\n",
    "sys.path.append(r'../../..')\n",
    "import VAT"
   ]
  },
  {
   "cell_type": "code",
   "execution_count": 8,
   "metadata": {},
   "outputs": [],
   "source": [
    "# Set dataset path\n",
    "datasetPath = r\"..\"\n",
    "rawDataPath = os.path.join(datasetPath, \"raw\")\n",
    "outPath = \"raw\""
   ]
  },
  {
   "cell_type": "code",
   "execution_count": 9,
   "metadata": {},
   "outputs": [
    {
     "data": {
      "application/vnd.jupyter.widget-view+json": {
       "model_id": "b329f09697ae4984acf183d55397c77e",
       "version_major": 2,
       "version_minor": 0
      },
      "text/plain": [
       "  0%|          | 0/1324 [00:00<?, ?it/s]"
      ]
     },
     "metadata": {},
     "output_type": "display_data"
    },
    {
     "name": "stdout",
     "output_type": "stream",
     "text": [
      "0\n",
      "0\n"
     ]
    }
   ],
   "source": [
    "#Read Dataset\n",
    "with open(os.path.join(datasetPath, 'metadata.json')) as f:\n",
    "  datalist = json.load(f)\n",
    "  \n",
    "data = {\n",
    "    \"filename\": [],\n",
    "    \"signal\": [],\n",
    "    \"sr\": [],\n",
    "    \"label\": []\n",
    "}\n",
    "\n",
    "#Feature extraction\n",
    "\n",
    "for key in tqdm(datalist):\n",
    "  if 'filename' not in key:\n",
    "    continue\n",
    "  filename = key['filename']\n",
    "  try:\n",
    "    filepath = os.path.join(rawDataPath, filename)\n",
    "    signal, sr = open_audio(filepath)\n",
    "  except:\n",
    "    print(0)\n",
    "    continue\n",
    "\n",
    "  if 'covid19' in key and 'verified' in key and int(key['covid19']) == int(key['verified']):\n",
    "    data[\"label\"].append(int(key['covid19']))\n",
    "    data[\"filename\"].append(filename)\n",
    "    data[\"sr\"].append(sr)\n",
    "\n",
    "    correct = None\n",
    "    if len(signal.shape) == 1:\n",
    "      correct = signal\n",
    "    else:\n",
    "      if np.sum(np.var(signal[:,1])) > np.sum(np.var(signal[:,0])):\n",
    "        correct = signal[:,1]\n",
    "      else:\n",
    "        correct = signal[:,0]\n",
    "\n",
    "    data[\"signal\"].append(correct)\n"
   ]
  },
  {
   "cell_type": "code",
   "execution_count": 10,
   "metadata": {},
   "outputs": [
    {
     "name": "stdout",
     "output_type": "stream",
     "text": [
      "covid: 0, 438\n",
      "covid: 1, 381\n"
     ]
    }
   ],
   "source": [
    "print(\"covid: 0, {}\".format(np.sum(np.asarray(data[\"label\"]) == 0)))\n",
    "print(\"covid: 1, {}\".format(np.sum(np.asarray(data[\"label\"]) == 1)))"
   ]
  },
  {
   "cell_type": "code",
   "execution_count": 12,
   "metadata": {},
   "outputs": [],
   "source": [
    "df = pd.DataFrame(data)"
   ]
  },
  {
   "cell_type": "code",
   "execution_count": 13,
   "metadata": {},
   "outputs": [],
   "source": [
    "df.to_pickle(\"data.pkl\")"
   ]
  },
  {
   "cell_type": "code",
   "execution_count": 16,
   "metadata": {},
   "outputs": [
    {
     "name": "stdout",
     "output_type": "stream",
     "text": [
      "sr\n",
      "8000     381\n",
      "48000    438\n",
      "Name: filename, dtype: int64\n"
     ]
    },
    {
     "data": {
      "image/png": "[encoded data removed]",
      "text/plain": [
       "<Figure size 640x480 with 1 Axes>"
      ]
     },
     "metadata": {},
     "output_type": "display_data"
    }
   ],
   "source": [
    "# Analyse the sample rates\n",
    "print(df.groupby(\"sr\")[\"filename\"].count())\n",
    "_, _, _ = plt.hist(data[\"sr\"], 100)"
   ]
  },
  {
   "cell_type": "code",
   "execution_count": 17,
   "metadata": {},
   "outputs": [
    {
     "data": {
      "text/plain": [
       "(array([  4.,   3.,  13.,  21.,  35.,  57.,  91.,  96., 115., 384.]),\n",
       " array([0.01342773, 0.11208496, 0.21074219, 0.30939943, 0.40805665,\n",
       "        0.50671387, 0.6053711 , 0.7040283 , 0.80268556, 0.90134275,\n",
       "        1.        ], dtype=float32),\n",
       " <BarContainer object of 10 artists>)"
      ]
     },
     "execution_count": 17,
     "metadata": {},
     "output_type": "execute_result"
    },
    {
     "data": {
      "image/png": "[encoded data removed]",
      "text/plain": [
       "<Figure size 640x480 with 1 Axes>"
      ]
     },
     "metadata": {},
     "output_type": "display_data"
    }
   ],
   "source": [
    "plt.hist([max(abs(signal)) for signal in data[\"signal\"]])"
   ]
  },
  {
   "cell_type": "code",
   "execution_count": null,
   "metadata": {},
   "outputs": [],
   "source": []
  }
 ],
 "metadata": {
  "kernelspec": {
   "display_name": "Python 3.8.5 ('fcan')",
   "language": "python",
   "name": "python3"
  },
  "language_info": {
   "codemirror_mode": {
    "name": "ipython",
    "version": 3
   },
   "file_extension": ".py",
   "mimetype": "text/x-python",
   "name": "python",
   "nbconvert_exporter": "python",
   "pygments_lexer": "ipython3",
   "version": "3.7.6"
  },
  "orig_nbformat": 4,
  "vscode": {
   "interpreter": {
    "hash": "9105ab0be51cae984c4f49f7ebad102668309b485635e647e6eeec81f07f96f2"
   }
  }
 },
 "nbformat": 4,
 "nbformat_minor": 2
}
